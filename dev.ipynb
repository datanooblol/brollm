{
 "cells": [
  {
   "cell_type": "code",
   "execution_count": 1,
   "id": "063bc63f",
   "metadata": {},
   "outputs": [],
   "source": [
    "%load_ext autoreload\n",
    "%autoreload 2"
   ]
  },
  {
   "cell_type": "code",
   "execution_count": 31,
   "id": "8ab45492",
   "metadata": {},
   "outputs": [],
   "source": [
    "import re\n",
    "\n",
    "def extract_python_code(text):\n",
    "    # Extract code blocks between ```python and ```\n",
    "    pattern = r'```python\\n(.*?)\\n```'\n",
    "    matches = re.findall(pattern, text, re.DOTALL)\n",
    "    return '\\n'.join(matches)"
   ]
  },
  {
   "cell_type": "code",
   "execution_count": 2,
   "id": "17551694",
   "metadata": {},
   "outputs": [],
   "source": [
    "from brollm import OllamaChat"
   ]
  },
  {
   "cell_type": "code",
   "execution_count": 10,
   "id": "4dd3ea09",
   "metadata": {},
   "outputs": [],
   "source": [
    "model =  OllamaChat(model_name='qwen2.5-coder:14b')"
   ]
  },
  {
   "cell_type": "code",
   "execution_count": 39,
   "id": "136e5b15",
   "metadata": {},
   "outputs": [],
   "source": [
    "system_prompt = \"\"\"\\\n",
    "You are a senior {language} developer. You can do everything in {language}. \n",
    "\n",
    "Cautions:\n",
    "- Return only {language} codeblock. Discard irrelevant conversation.\n",
    "\n",
    "Always return your response in {language} codeblock like below example:\n",
    "```{language}\n",
    "<your code>\n",
    "```\n",
    "\"\"\".strip()\n",
    "\n",
    "messages = [\n",
    "    model.UserMessage(text=\"I wanna know who are the top5 spenders.\")\n",
    "]\n",
    "\n",
    "response = model.run(system_prompt=system_prompt.format(language=\"sql\"), messages=messages)"
   ]
  },
  {
   "cell_type": "code",
   "execution_count": 40,
   "id": "a4b1bc75",
   "metadata": {},
   "outputs": [
    {
     "name": "stdout",
     "output_type": "stream",
     "text": [
      "```sql\n",
      "SELECT customer_id, SUM(amount_spent) AS total_spent\n",
      "FROM transactions\n",
      "GROUP BY customer_id\n",
      "ORDER BY total_spent DESC\n",
      "LIMIT 5;\n",
      "```\n"
     ]
    }
   ],
   "source": [
    "print(response)"
   ]
  },
  {
   "cell_type": "code",
   "execution_count": 35,
   "id": "658cc7d8",
   "metadata": {},
   "outputs": [
    {
     "name": "stdout",
     "output_type": "stream",
     "text": [
      "Current DateTime: 2025-08-01 21:09:08.485636\n"
     ]
    }
   ],
   "source": [
    "exec(extract_python_code(response))"
   ]
  },
  {
   "cell_type": "code",
   "execution_count": null,
   "id": "797366ac",
   "metadata": {},
   "outputs": [],
   "source": []
  }
 ],
 "metadata": {
  "kernelspec": {
   "display_name": "brollm",
   "language": "python",
   "name": "python3"
  },
  "language_info": {
   "codemirror_mode": {
    "name": "ipython",
    "version": 3
   },
   "file_extension": ".py",
   "mimetype": "text/x-python",
   "name": "python",
   "nbconvert_exporter": "python",
   "pygments_lexer": "ipython3",
   "version": "3.11.11"
  }
 },
 "nbformat": 4,
 "nbformat_minor": 5
}
