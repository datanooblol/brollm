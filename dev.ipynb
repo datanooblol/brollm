{
 "cells": [
  {
   "cell_type": "code",
   "execution_count": 1,
   "id": "063bc63f",
   "metadata": {},
   "outputs": [],
   "source": [
    "%load_ext autoreload\n",
    "%autoreload 2"
   ]
  },
  {
   "cell_type": "code",
   "execution_count": 2,
   "id": "8ab45492",
   "metadata": {},
   "outputs": [],
   "source": [
    "import re\n",
    "\n",
    "def extract_python_code(text):\n",
    "    # Extract code blocks between ```python and ```\n",
    "    pattern = r'```python\\n(.*?)\\n```'\n",
    "    matches = re.findall(pattern, text, re.DOTALL)\n",
    "    return '\\n'.join(matches)"
   ]
  },
  {
   "cell_type": "code",
   "execution_count": 3,
   "id": "17551694",
   "metadata": {},
   "outputs": [],
   "source": [
    "from brollm import OllamaChat"
   ]
  },
  {
   "cell_type": "code",
   "execution_count": 4,
   "id": "4dd3ea09",
   "metadata": {},
   "outputs": [],
   "source": [
    "model =  OllamaChat(model_name='qwen2.5-coder:14b')"
   ]
  },
  {
   "cell_type": "code",
   "execution_count": 5,
   "id": "136e5b15",
   "metadata": {},
   "outputs": [
    {
     "name": "stdout",
     "output_type": "stream",
     "text": [
      "```python\n",
      "from datetime import datetime\n",
      "\n",
      "current_datetime = datetime.now()\n",
      "print(current_datetime)\n",
      "```\n"
     ]
    }
   ],
   "source": [
    "system_prompt = \"\"\"\\\n",
    "You are a senior {language} developer. You can do everything in {language}. \n",
    "\n",
    "Cautions:\n",
    "- Return only {language} codeblock. Discard irrelevant conversation.\n",
    "\n",
    "Always return your response in {language} codeblock like below example:\n",
    "```{language}\n",
    "<your code>\n",
    "```\n",
    "\"\"\".strip()\n",
    "\n",
    "messages = [\n",
    "    model.UserMessage(text=\"Write me a code for getting current datetime.\")\n",
    "]\n",
    "\n",
    "response = model.run(system_prompt=system_prompt.format(language=\"python\"), messages=messages)\n",
    "print(response)"
   ]
  },
  {
   "cell_type": "code",
   "execution_count": 6,
   "id": "658cc7d8",
   "metadata": {},
   "outputs": [
    {
     "name": "stdout",
     "output_type": "stream",
     "text": [
      "2025-08-02 00:22:51.072851\n"
     ]
    }
   ],
   "source": [
    "exec(extract_python_code(response))"
   ]
  },
  {
   "cell_type": "code",
   "execution_count": 7,
   "id": "22ddbd06",
   "metadata": {},
   "outputs": [
    {
     "name": "stdout",
     "output_type": "stream",
     "text": [
      "```sql\n",
      "SELECT customer_id, SUM(amount_spent) AS total_spent\n",
      "FROM transactions\n",
      "GROUP BY customer_id\n",
      "ORDER BY total_spent DESC\n",
      "LIMIT 5;\n",
      "```\n"
     ]
    }
   ],
   "source": [
    "messages = [\n",
    "    model.UserMessage(text=\"Who are the top5 most spenders?\")\n",
    "]\n",
    "\n",
    "response = model.run(system_prompt=system_prompt.format(language=\"sql\"), messages=messages)\n",
    "print(response)"
   ]
  },
  {
   "cell_type": "code",
   "execution_count": 8,
   "id": "37c5179b",
   "metadata": {},
   "outputs": [
    {
     "name": "stdout",
     "output_type": "stream",
     "text": [
      "```python\n",
      "from dataclasses import dataclass\n",
      "\n",
      "@dataclass\n",
      "class CustomerInfo:\n",
      "    customer_id: int\n",
      "    first_name: str\n",
      "    last_name: str\n",
      "    email: str\n",
      "    phone_number: str = None\n",
      "    address: str = None\n",
      "    city: str = None\n",
      "    state: str = None\n",
      "    zip_code: str = None\n",
      "    country: str = None\n",
      "\n",
      "# Example usage:\n",
      "customer = CustomerInfo(\n",
      "    customer_id=1,\n",
      "    first_name=\"John\",\n",
      "    last_name=\"Doe\",\n",
      "    email=\"john.doe@example.com\",\n",
      "    phone_number=\"123-456-7890\",\n",
      "    address=\"123 Main St\",\n",
      "    city=\"Anytown\",\n",
      "    state=\"CA\",\n",
      "    zip_code=\"12345\",\n",
      "    country=\"USA\"\n",
      ")\n",
      "```\n"
     ]
    }
   ],
   "source": [
    "messages = [\n",
    "    model.UserMessage(text=\"I wanna have a dataclass for customer information.\")\n",
    "]\n",
    "\n",
    "response = model.run(system_prompt=system_prompt.format(language=\"python\"), messages=messages)\n",
    "print(response)"
   ]
  },
  {
   "cell_type": "code",
   "execution_count": 9,
   "id": "797366ac",
   "metadata": {},
   "outputs": [
    {
     "name": "stdout",
     "output_type": "stream",
     "text": [
      "```python\n",
      "from dataclasses import dataclass\n",
      "\n",
      "@dataclass\n",
      "class CustomerInfo:\n",
      "    customer_id: int\n",
      "    first_name: str\n",
      "    last_name: str\n",
      "    email: str\n",
      "    phone_number: str\n",
      "    address: str\n",
      "    city: str\n",
      "    state: str\n",
      "    zip_code: str\n",
      "    country: str\n",
      "```\n"
     ]
    }
   ],
   "source": [
    "system_prompt = \"\"\"\\\n",
    "You are a senior python developer. Your job is to help user write a python dataclass based on the specification. \n",
    "\n",
    "Cautions:\n",
    "- Return only python codeblock. Discard irrelevant conversation.\n",
    "\n",
    "Always return your response in python codeblock like below example:\n",
    "```python\n",
    "# your dataclass\n",
    "<your code>\n",
    "```\n",
    "\"\"\".strip()\n",
    "\n",
    "messages = [\n",
    "    model.UserMessage(text=\"I wanna have a dataclass for customer information.\")\n",
    "]\n",
    "\n",
    "response = model.run(system_prompt=system_prompt, messages=messages)\n",
    "print(response)"
   ]
  },
  {
   "cell_type": "code",
   "execution_count": null,
   "id": "468f9670",
   "metadata": {},
   "outputs": [],
   "source": []
  }
 ],
 "metadata": {
  "kernelspec": {
   "display_name": "brollm",
   "language": "python",
   "name": "python3"
  },
  "language_info": {
   "codemirror_mode": {
    "name": "ipython",
    "version": 3
   },
   "file_extension": ".py",
   "mimetype": "text/x-python",
   "name": "python",
   "nbconvert_exporter": "python",
   "pygments_lexer": "ipython3",
   "version": "3.11.11"
  }
 },
 "nbformat": 4,
 "nbformat_minor": 5
}
